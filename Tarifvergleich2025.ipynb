{
  "nbformat": 4,
  "nbformat_minor": 0,
  "metadata": {
    "colab": {
      "provenance": [],
      "authorship_tag": "ABX9TyMYXTlUTgb5f7sPVv1JKWy3",
      "include_colab_link": true
    },
    "kernelspec": {
      "name": "python3",
      "display_name": "Python 3"
    },
    "language_info": {
      "name": "python"
    }
  },
  "cells": [
    {
      "cell_type": "markdown",
      "metadata": {
        "id": "view-in-github",
        "colab_type": "text"
      },
      "source": [
        "<a href=\"https://colab.research.google.com/github/MichaelBieri/Sequence-Forecast-Energy-Values-using-Multivariate-Analysis/blob/main/Tarifvergleich2025.ipynb\" target=\"_parent\"><img src=\"https://colab.research.google.com/assets/colab-badge.svg\" alt=\"Open In Colab\"/></a>"
      ]
    },
    {
      "cell_type": "code",
      "execution_count": null,
      "metadata": {
        "id": "95Ryf1Jiu9wz"
      },
      "outputs": [],
      "source": []
    },
    {
      "cell_type": "markdown",
      "source": [
        "**RENOLD & PARTNER GMBH ANFRAGE ENERGIE**\n",
        "Mai 2025"
      ],
      "metadata": {
        "id": "b_aS8NpbvDJ0"
      }
    },
    {
      "cell_type": "markdown",
      "source": [
        "*https://github.com/zazuko/notebooks/blob/master/notebooks/electricity_prices/electricity_prices.ipynb*"
      ],
      "metadata": {
        "id": "9iTtqBtAvO9E"
      }
    },
    {
      "cell_type": "code",
      "source": [
        "import json\n",
        "import re\n",
        "import string\n",
        "\n",
        "import folium\n",
        "import mapclassify\n",
        "import matplotlib as mpl\n",
        "import matplotlib.pyplot as plt\n",
        "import pandas as pd\n",
        "import plotly.express as px\n",
        "import plotly.graph_objects as go\n",
        "from plotly.subplots import make_subplots\n",
        "\n",
        "from graphly.api_client import SparqlClient\n",
        "\n",
        "%matplotlib inline"
      ],
      "metadata": {
        "id": "RQlXi_UxvMqc"
      },
      "execution_count": null,
      "outputs": []
    },
    {
      "cell_type": "code",
      "source": [
        "# Uncomment to install dependencies in Colab environment\n",
        "!pip install mapclassify\n",
        "!pip install git+https://github.com/zazuko/graphly.git"
      ],
      "metadata": {
        "id": "98VcfW2WvdqJ"
      },
      "execution_count": null,
      "outputs": []
    },
    {
      "cell_type": "code",
      "source": [
        "sparql = SparqlClient(\"https://lindas.admin.ch/query\")\n",
        "geosparql = SparqlClient(\"https://geo.ld.admin.ch/query\")\n",
        "\n",
        "sparql.add_prefixes({\n",
        "    \"schema\": \"<http://schema.org/>\",\n",
        "    \"cube\": \"<https://cube.link/>\",\n",
        "    \"elcom\": \"<https://energy.ld.admin.ch/elcom/electricityprice/dimension/>\",\n",
        "    \"admin\": \"<https://schema.ld.admin.ch/>\"\n",
        "})\n",
        "\n",
        "geosparql.add_prefixes({\n",
        "    \"dct\": \"<http://purl.org/dc/terms/>\",\n",
        "    \"geonames\": \"<http://www.geonames.org/ontology#>\",\n",
        "    \"schema\": \"<http://schema.org/>\",\n",
        "    \"geosparql\": \"<http://www.opengis.net/ont/geosparql#>\",\n",
        "})"
      ],
      "metadata": {
        "id": "QVHuMXD8vf9Z"
      },
      "execution_count": null,
      "outputs": []
    },
    {
      "cell_type": "markdown",
      "source": [
        "Anfrage: Total electricity price for municipalities"
      ],
      "metadata": {
        "id": "nRjTrcS8vvgC"
      }
    },
    {
      "cell_type": "code",
      "source": [
        "query = \"\"\"\n",
        "SELECT DISTINCT ?postalCode ?total ?operatorName\n",
        "FROM <https://lindas.admin.ch/elcom/electricityprice>\n",
        "WHERE {\n",
        "\n",
        "  ?offer a schema:Offer ;\n",
        "    schema:areaServed ?muniri ;\n",
        "    schema:postalCode ?postalCode .\n",
        "\n",
        "  <https://energy.ld.admin.ch/elcom/electricityprice> cube:observationSet/cube:observation ?obs .\n",
        "\n",
        "  ?obs a cube:Observation ;\n",
        "    elcom:period \"2023\"^^xsd:gYear ; # data available up to 10 years ago\n",
        "    elcom:municipality ?muniri ;\n",
        "    elcom:category <https://energy.ld.admin.ch/elcom/electricityprice/category/H1> ; # categories are explained below\n",
        "    elcom:operator ?operator ;\n",
        "    elcom:product <https://energy.ld.admin.ch/elcom/electricityprice/product/standard> ; # Some municipalities also have a \"cheapest\" product\n",
        "    elcom:total ?total .\n",
        "\n",
        "  ?operator schema:name ?operatorName .\n",
        "\n",
        "  # FILTER( ?postalCode = \"2502\")\n",
        "\n",
        "}\n",
        "\"\"\"\n",
        "\n",
        "totalByPostCode = sparql.send_query(query)\n",
        "totalByPostCode.head()"
      ],
      "metadata": {
        "id": "JP63PxEvv0m0"
      },
      "execution_count": null,
      "outputs": []
    }
  ]
}